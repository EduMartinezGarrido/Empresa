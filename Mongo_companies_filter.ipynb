{
 "cells": [
  {
   "cell_type": "code",
   "execution_count": 64,
   "metadata": {},
   "outputs": [],
   "source": [
    "from pymongo import MongoClient\n",
    "import pandas as pd"
   ]
  },
  {
   "cell_type": "code",
   "execution_count": 3,
   "metadata": {},
   "outputs": [
    {
     "data": {
      "text/plain": [
       "['admin', 'config', 'ironhack', 'local']"
      ]
     },
     "execution_count": 3,
     "metadata": {},
     "output_type": "execute_result"
    }
   ],
   "source": [
    "client = MongoClient(\"localhost:27017\")\n",
    "client.list_database_names()"
   ]
  },
  {
   "cell_type": "code",
   "execution_count": 95,
   "metadata": {},
   "outputs": [],
   "source": [
    "db = client.get_database(\"ironhack\")\n",
    "collection = db.get_collection(\"companies\")"
   ]
  },
  {
   "cell_type": "markdown",
   "metadata": {},
   "source": [
    "### Condiciones:\n",
    "1. Empresas con más de 50 empleados\n",
    "2. Empresas del sector game-video\n",
    "3. Empresas con más de 1M de dólares\n",
    "4. Empresas situadas geográficamente cerca de otras empresas tecnológicas. En este caso buscamos en USA, y concretamente en California."
   ]
  },
  {
   "cell_type": "code",
   "execution_count": 98,
   "metadata": {
    "scrolled": false
   },
   "outputs": [
    {
     "data": {
      "text/plain": [
       "[{'name': 'hi5',\n",
       "  'offices': [{'city': 'San Francisco',\n",
       "    'latitude': 37.788668,\n",
       "    'longitude': -122.400558}]},\n",
       " {'name': 'Netflix',\n",
       "  'offices': [{'city': 'Los Gatos',\n",
       "    'latitude': 37.25142,\n",
       "    'longitude': -121.968687}]},\n",
       " {'name': 'Modern Feed',\n",
       "  'offices': [{'city': 'Los Angeles',\n",
       "    'latitude': 34.085749,\n",
       "    'longitude': -118.343791}]},\n",
       " {'name': 'Turbine',\n",
       "  'offices': [{'city': 'Westwood',\n",
       "    'latitude': 42.214483,\n",
       "    'longitude': -71.185964},\n",
       "   {'city': 'Redwood City', 'latitude': 37.477652, 'longitude': -122.223384}]},\n",
       " {'name': 'ngmoco',\n",
       "  'offices': [{'city': 'San Francisco',\n",
       "    'latitude': 37.7705096,\n",
       "    'longitude': -122.4015807}]},\n",
       " {'name': 'RGB Networks',\n",
       "  'offices': [{'city': 'Sunnyvale',\n",
       "    'latitude': 37.4123706,\n",
       "    'longitude': -122.0216271}]}]"
      ]
     },
     "execution_count": 98,
     "metadata": {},
     "output_type": "execute_result"
    }
   ],
   "source": [
    "proj = {\"_id\": 0,\"name\": 1,\"offices.latitude\":1,\"offices.longitude\":1,\"offices.city\":1}\n",
    "condicion1 = {\"number_of_employees\":{\"$gt\": 50}}\n",
    "condicion2 = {\"category_code\": \"games_video\"}\n",
    "condicion3 = {\"total_money_raised\": {\"$gte\": \"$1M\"}}\n",
    "condicion4 = {\"offices.country_code\":\"USA\"}\n",
    "condicion5 = {\"offices.state_code\":\"CA\"}\n",
    "condicion6 = {\"offices.latitude\":{\"$ne\":None}}\n",
    "california_list = list(collection.find({\"$and\": [condicion1,condicion2,condicion3,condicion4,condicion5,condicion6]},proj))\n",
    "california_list"
   ]
  },
  {
   "cell_type": "code",
   "execution_count": 99,
   "metadata": {},
   "outputs": [
    {
     "data": {
      "text/plain": [
       "[{'city': 'San Francisco', 'latitude': 37.788668, 'longitude': -122.400558}]"
      ]
     },
     "execution_count": 99,
     "metadata": {},
     "output_type": "execute_result"
    }
   ],
   "source": [
    "california_list[0][\"offices\"]"
   ]
  },
  {
   "cell_type": "code",
   "execution_count": null,
   "metadata": {},
   "outputs": [],
   "source": []
  }
 ],
 "metadata": {
  "kernelspec": {
   "display_name": "kepler",
   "language": "python",
   "name": "kepler"
  },
  "language_info": {
   "codemirror_mode": {
    "name": "ipython",
    "version": 3
   },
   "file_extension": ".py",
   "mimetype": "text/x-python",
   "name": "python",
   "nbconvert_exporter": "python",
   "pygments_lexer": "ipython3",
   "version": "3.8.5"
  }
 },
 "nbformat": 4,
 "nbformat_minor": 4
}
