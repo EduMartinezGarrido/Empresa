{
 "cells": [
  {
   "cell_type": "code",
   "execution_count": 1,
   "metadata": {
    "scrolled": true
   },
   "outputs": [],
   "source": [
    "import requests\n",
    "import json\n",
    "from dotenv import load_dotenv\n",
    "import os\n",
    "import pandas as pd\n",
    "load_dotenv()\n",
    "import src.FuncionesAPI as fa\n",
    "from functools import reduce\n",
    "import operator\n",
    "from pandas import json_normalize\n",
    "import numpy as np"
   ]
  },
  {
   "cell_type": "markdown",
   "metadata": {},
   "source": [
    "## API CALL"
   ]
  },
  {
   "cell_type": "code",
   "execution_count": 2,
   "metadata": {},
   "outputs": [],
   "source": [
    "url_query = 'https://api.foursquare.com/v2/venues/explore'"
   ]
  },
  {
   "cell_type": "code",
   "execution_count": 3,
   "metadata": {},
   "outputs": [],
   "source": [
    "queries_vegan = [\"Vegan Restaurant\"]\n",
    "queries_nursery = [\"Nursery School\"]\n",
    "queries_bar = [\"Nightclub\"]\n",
    "queries_taxi = [\"Taxi Stand\"]\n",
    "queries_basket = [\"Basketball Court\"]\n",
    "queries_starbucks = [\"Starbucks\"]"
   ]
  },
  {
   "cell_type": "code",
   "execution_count": 4,
   "metadata": {},
   "outputs": [],
   "source": [
    "tok1= os.getenv(\"Client_Id\")\n",
    "tok2= os.getenv(\"Client_Secret\")"
   ]
  },
  {
   "cell_type": "markdown",
   "metadata": {},
   "source": [
    "## SAN FRANCISCO"
   ]
  },
  {
   "cell_type": "code",
   "execution_count": 5,
   "metadata": {},
   "outputs": [],
   "source": [
    "san_francisco_vegan = fa.get_data(37.788668, -122.400558,url_query,*queries_vegan)\n",
    "\n",
    "san_francisco_nursery = fa.get_data(37.788668, -122.400558,url_query,*queries_nursery)\n",
    "\n",
    "san_francisco_bar = fa.get_data(37.788668, -122.400558,url_query,*queries_bar)\n",
    "\n",
    "san_francisco_taxi = fa.get_data(37.788668, -122.400558,url_query,*queries_taxi)\n",
    "\n",
    "san_francisco_basket = fa.get_data(37.788668, -122.400558,url_query,*queries_basket)\n",
    "\n",
    "san_francisco_starbucks = fa.get_data(37.788668, -122.400558,url_query,*queries_starbucks)"
   ]
  },
  {
   "cell_type": "code",
   "execution_count": 7,
   "metadata": {},
   "outputs": [],
   "source": [
    "san_francisco_vegan = san_francisco_vegan.get(\"Vegan Restaurant\").get(\"response\").get(\"groups\")[0].get(\"items\")\n",
    "san_francisco_nursery = san_francisco_nursery.get(\"Nursery School\").get(\"response\").get(\"groups\")[0].get(\"items\")\n",
    "san_francisco_bar = san_francisco_bar.get(\"Nightclub\").get(\"response\").get(\"groups\")[0].get(\"items\")\n",
    "san_francisco_taxi = san_francisco_taxi.get(\"Taxi Stand\").get(\"response\").get(\"groups\")[0].get(\"items\")\n",
    "san_francisco_basket = san_francisco_basket.get(\"Basketball Court\").get(\"response\").get(\"groups\")[0].get(\"items\")\n",
    "san_francisco_starbucks = san_francisco_starbucks.get(\"Starbucks\").get(\"response\").get(\"groups\")[0].get(\"items\")"
   ]
  },
  {
   "cell_type": "markdown",
   "metadata": {},
   "source": [
    "### Creating dataframes"
   ]
  },
  {
   "cell_type": "code",
   "execution_count": 8,
   "metadata": {},
   "outputs": [],
   "source": [
    "df_SF_vegan = fa.crear_dataframe(san_francisco_vegan)\n",
    "df_SF_vegan = (df_SF_vegan.assign(categoria= \"vegan\"))"
   ]
  },
  {
   "cell_type": "code",
   "execution_count": 9,
   "metadata": {},
   "outputs": [],
   "source": [
    "df_SF_nursery = fa.crear_dataframe(san_francisco_nursery)\n",
    "df_SF_nursery = (df_SF_nursery.assign(categoria= \"nursery\"))"
   ]
  },
  {
   "cell_type": "code",
   "execution_count": 10,
   "metadata": {},
   "outputs": [],
   "source": [
    "df_SF_bar = fa.crear_dataframe(san_francisco_bar)\n",
    "df_SF_bar = (df_SF_bar.assign(categoria= \"bar\"))"
   ]
  },
  {
   "cell_type": "code",
   "execution_count": 11,
   "metadata": {},
   "outputs": [],
   "source": [
    "df_SF_taxi = fa.crear_dataframe(san_francisco_taxi)\n",
    "df_SF_taxi = (df_SF_taxi.assign(categoria= \"taxi\"))"
   ]
  },
  {
   "cell_type": "code",
   "execution_count": 12,
   "metadata": {},
   "outputs": [],
   "source": [
    "df_SF_basket = fa.crear_dataframe(san_francisco_basket)\n",
    "df_SF_basket = (df_SF_basket.assign(categoria= \"basket\"))"
   ]
  },
  {
   "cell_type": "code",
   "execution_count": 13,
   "metadata": {},
   "outputs": [],
   "source": [
    "df_SF_starbucks = fa.crear_dataframe(san_francisco_starbucks)\n",
    "df_SF_starbucks = (df_SF_starbucks.assign(categoria= \"Starbucks\"))"
   ]
  },
  {
   "cell_type": "markdown",
   "metadata": {},
   "source": [
    "### Concatenate dataframes"
   ]
  },
  {
   "cell_type": "code",
   "execution_count": 14,
   "metadata": {
    "scrolled": true
   },
   "outputs": [],
   "source": [
    "df_concat_sf =  pd.concat([df_SF_vegan,df_SF_nursery,df_SF_bar,df_SF_taxi,df_SF_basket,df_SF_starbucks], ignore_index=True)"
   ]
  },
  {
   "cell_type": "code",
   "execution_count": 15,
   "metadata": {},
   "outputs": [
    {
     "data": {
      "text/html": [
       "<div>\n",
       "<style scoped>\n",
       "    .dataframe tbody tr th:only-of-type {\n",
       "        vertical-align: middle;\n",
       "    }\n",
       "\n",
       "    .dataframe tbody tr th {\n",
       "        vertical-align: top;\n",
       "    }\n",
       "\n",
       "    .dataframe thead th {\n",
       "        text-align: right;\n",
       "    }\n",
       "</style>\n",
       "<table border=\"1\" class=\"dataframe\">\n",
       "  <thead>\n",
       "    <tr style=\"text-align: right;\">\n",
       "      <th>categoria</th>\n",
       "      <th>Starbucks</th>\n",
       "      <th>bar</th>\n",
       "      <th>basket</th>\n",
       "      <th>nursery</th>\n",
       "      <th>taxi</th>\n",
       "      <th>vegan</th>\n",
       "    </tr>\n",
       "  </thead>\n",
       "  <tbody>\n",
       "    <tr>\n",
       "      <th>San_Francisco</th>\n",
       "      <td>50</td>\n",
       "      <td>49</td>\n",
       "      <td>24</td>\n",
       "      <td>8</td>\n",
       "      <td>5</td>\n",
       "      <td>20</td>\n",
       "    </tr>\n",
       "  </tbody>\n",
       "</table>\n",
       "</div>"
      ],
      "text/plain": [
       "categoria      Starbucks  bar  basket  nursery  taxi  vegan\n",
       "San_Francisco         50   49      24        8     5     20"
      ]
     },
     "execution_count": 15,
     "metadata": {},
     "output_type": "execute_result"
    }
   ],
   "source": [
    "df_sanfrancisco = fa.clean_dataframes(df_concat_sf,\"San_Francisco\")\n",
    "df_sanfrancisco"
   ]
  },
  {
   "cell_type": "markdown",
   "metadata": {},
   "source": [
    "## LOS GATOS"
   ]
  },
  {
   "cell_type": "code",
   "execution_count": 16,
   "metadata": {},
   "outputs": [],
   "source": [
    "los_gatos_vegan = fa.get_data(37.25142, -121.9686878,url_query,*queries_vegan)\n",
    "\n",
    "los_gatos_nursery = fa.get_data(37.25142, -121.9686878,url_query,*queries_nursery)\n",
    "\n",
    "los_gatos_bar = fa.get_data(37.25142, -121.9686878,url_query,*queries_bar)\n",
    "\n",
    "los_gatos_taxi = fa.get_data(37.25142, -121.9686878,url_query,*queries_taxi)\n",
    "\n",
    "los_gatos_basket = fa.get_data(37.25142, -121.9686878,url_query,*queries_basket)\n",
    "\n",
    "los_gatos_starbucks = fa.get_data(37.25142, -121.9686878,url_query,*queries_starbucks)"
   ]
  },
  {
   "cell_type": "code",
   "execution_count": 17,
   "metadata": {},
   "outputs": [],
   "source": [
    "los_gatos_vegan = los_gatos_vegan.get(\"Vegan Restaurant\").get(\"response\").get(\"groups\")[0].get(\"items\")\n",
    "los_gatos_nursery = los_gatos_nursery.get(\"Nursery School\").get(\"response\").get(\"groups\")[0].get(\"items\")\n",
    "los_gatos_bar = los_gatos_bar.get(\"Nightclub\").get(\"response\").get(\"groups\")[0].get(\"items\")\n",
    "los_gatos_taxi = los_gatos_taxi.get(\"Taxi Stand\").get(\"response\").get(\"groups\")[0].get(\"items\")\n",
    "los_gatos_basket = los_gatos_basket.get(\"Basketball Court\").get(\"response\").get(\"groups\")[0].get(\"items\")\n",
    "los_gatos_starbucks = los_gatos_starbucks.get(\"Starbucks\").get(\"response\").get(\"groups\")[0].get(\"items\")"
   ]
  },
  {
   "cell_type": "markdown",
   "metadata": {},
   "source": [
    "### Creating dataframes"
   ]
  },
  {
   "cell_type": "code",
   "execution_count": 18,
   "metadata": {},
   "outputs": [],
   "source": [
    "df_gatos_vegan = fa.crear_dataframe(los_gatos_vegan)\n",
    "df_gatos_vegan = (df_gatos_vegan.assign(categoria= \"vegan\"))"
   ]
  },
  {
   "cell_type": "code",
   "execution_count": 19,
   "metadata": {},
   "outputs": [],
   "source": [
    "df_gatos_nursery = fa.crear_dataframe(los_gatos_nursery)\n",
    "df_gatos_nursery = (df_gatos_nursery.assign(categoria= \"nursery\"))"
   ]
  },
  {
   "cell_type": "code",
   "execution_count": 20,
   "metadata": {},
   "outputs": [],
   "source": [
    "df_gatos_bar = fa.crear_dataframe(los_gatos_bar)\n",
    "df_gatos_bar = (df_gatos_bar.assign(categoria= \"bar\"))"
   ]
  },
  {
   "cell_type": "code",
   "execution_count": 21,
   "metadata": {},
   "outputs": [],
   "source": [
    "df_gatos_taxi = fa.crear_dataframe(los_gatos_taxi)\n",
    "df_gatos_taxi = (df_gatos_taxi.assign(categoria= \"taxi\"))"
   ]
  },
  {
   "cell_type": "code",
   "execution_count": 22,
   "metadata": {},
   "outputs": [],
   "source": [
    "df_gatos_basket = fa.crear_dataframe(los_gatos_basket)\n",
    "df_gatos_basket = (df_gatos_basket.assign(categoria= \"basket\"))"
   ]
  },
  {
   "cell_type": "code",
   "execution_count": 23,
   "metadata": {},
   "outputs": [],
   "source": [
    "df_gatos_starbucks = fa.crear_dataframe(los_gatos_starbucks)\n",
    "df_gatos_starbucks = (df_gatos_starbucks.assign(categoria= \"Starbucks\"))"
   ]
  },
  {
   "cell_type": "markdown",
   "metadata": {},
   "source": [
    "### Concatenate dataframes"
   ]
  },
  {
   "cell_type": "code",
   "execution_count": 24,
   "metadata": {},
   "outputs": [],
   "source": [
    "df_concat_gatos =  pd.concat([df_gatos_vegan,df_gatos_nursery,df_gatos_bar,df_gatos_taxi,df_gatos_basket,df_gatos_starbucks], ignore_index=True)"
   ]
  },
  {
   "cell_type": "markdown",
   "metadata": {},
   "source": [
    "### Cleaning dataframes"
   ]
  },
  {
   "cell_type": "code",
   "execution_count": 25,
   "metadata": {
    "scrolled": true
   },
   "outputs": [
    {
     "data": {
      "text/html": [
       "<div>\n",
       "<style scoped>\n",
       "    .dataframe tbody tr th:only-of-type {\n",
       "        vertical-align: middle;\n",
       "    }\n",
       "\n",
       "    .dataframe tbody tr th {\n",
       "        vertical-align: top;\n",
       "    }\n",
       "\n",
       "    .dataframe thead th {\n",
       "        text-align: right;\n",
       "    }\n",
       "</style>\n",
       "<table border=\"1\" class=\"dataframe\">\n",
       "  <thead>\n",
       "    <tr style=\"text-align: right;\">\n",
       "      <th>categoria</th>\n",
       "      <th>Starbucks</th>\n",
       "      <th>bar</th>\n",
       "      <th>basket</th>\n",
       "      <th>nursery</th>\n",
       "      <th>taxi</th>\n",
       "      <th>vegan</th>\n",
       "    </tr>\n",
       "  </thead>\n",
       "  <tbody>\n",
       "    <tr>\n",
       "      <th>Los_Gatos</th>\n",
       "      <td>64</td>\n",
       "      <td>23</td>\n",
       "      <td>43</td>\n",
       "      <td>11</td>\n",
       "      <td>3</td>\n",
       "      <td>58</td>\n",
       "    </tr>\n",
       "  </tbody>\n",
       "</table>\n",
       "</div>"
      ],
      "text/plain": [
       "categoria  Starbucks  bar  basket  nursery  taxi  vegan\n",
       "Los_Gatos         64   23      43       11     3     58"
      ]
     },
     "execution_count": 25,
     "metadata": {},
     "output_type": "execute_result"
    }
   ],
   "source": [
    "df_los_gatos = fa.clean_dataframes(df_concat_gatos,\"Los_Gatos\")\n",
    "df_los_gatos"
   ]
  },
  {
   "cell_type": "markdown",
   "metadata": {},
   "source": [
    "## LOS ANGELES"
   ]
  },
  {
   "cell_type": "code",
   "execution_count": 26,
   "metadata": {},
   "outputs": [],
   "source": [
    "los_angeles_vegan = fa.get_data(34.085749, -118.343791,url_query,*queries_vegan)\n",
    "\n",
    "los_angeles_nursery = fa.get_data(34.085749, -118.343791,url_query,*queries_nursery)\n",
    "\n",
    "los_angeles_bar = fa.get_data(34.085749, -118.343791,url_query,*queries_bar)\n",
    "\n",
    "los_angeles_taxi = fa.get_data(34.085749, -118.343791,url_query,*queries_taxi)\n",
    "\n",
    "los_angeles_basket = fa.get_data(34.085749, -118.343791,url_query,*queries_basket)\n",
    "\n",
    "los_angeles_starbucks = fa.get_data(34.085749, -118.343791,url_query,*queries_starbucks)"
   ]
  },
  {
   "cell_type": "code",
   "execution_count": 27,
   "metadata": {},
   "outputs": [],
   "source": [
    "los_angeles_vegan = los_angeles_vegan.get(\"Vegan Restaurant\").get(\"response\").get(\"groups\")[0].get(\"items\")\n",
    "los_angeles_nursery = los_angeles_nursery.get(\"Nursery School\").get(\"response\").get(\"groups\")[0].get(\"items\")\n",
    "los_angeles_bar = los_angeles_bar.get(\"Nightclub\").get(\"response\").get(\"groups\")[0].get(\"items\")\n",
    "los_angeles_taxi = los_angeles_taxi.get(\"Taxi Stand\").get(\"response\").get(\"groups\")[0].get(\"items\")\n",
    "los_angeles_basket = los_angeles_basket.get(\"Basketball Court\").get(\"response\").get(\"groups\")[0].get(\"items\")\n",
    "los_angeles_starbucks = los_angeles_starbucks.get(\"Starbucks\").get(\"response\").get(\"groups\")[0].get(\"items\")"
   ]
  },
  {
   "cell_type": "markdown",
   "metadata": {},
   "source": [
    "### Creating dataframes"
   ]
  },
  {
   "cell_type": "code",
   "execution_count": 28,
   "metadata": {},
   "outputs": [],
   "source": [
    "df_LA_vegan = fa.crear_dataframe(los_angeles_vegan)\n",
    "df_LA_vegan = (df_LA_vegan.assign(categoria= \"vegan\"))"
   ]
  },
  {
   "cell_type": "code",
   "execution_count": 29,
   "metadata": {},
   "outputs": [],
   "source": [
    "df_LA_nursery = fa.crear_dataframe(los_angeles_nursery)\n",
    "df_LA_nursery = (df_LA_nursery.assign(categoria= \"nursery\"))"
   ]
  },
  {
   "cell_type": "code",
   "execution_count": 30,
   "metadata": {},
   "outputs": [],
   "source": [
    "df_LA_bar = fa.crear_dataframe(los_angeles_bar)\n",
    "df_LA_bar = (df_LA_bar.assign(categoria= \"bar\"))"
   ]
  },
  {
   "cell_type": "code",
   "execution_count": 31,
   "metadata": {},
   "outputs": [],
   "source": [
    "df_LA_taxi = fa.crear_dataframe(los_angeles_taxi)\n",
    "df_LA_taxi = (df_LA_taxi.assign(categoria= \"taxi\"))"
   ]
  },
  {
   "cell_type": "code",
   "execution_count": 32,
   "metadata": {},
   "outputs": [],
   "source": [
    "df_LA_basket = fa.crear_dataframe(los_angeles_basket)\n",
    "df_LA_basket = (df_LA_basket.assign(categoria= \"basket\"))"
   ]
  },
  {
   "cell_type": "code",
   "execution_count": 33,
   "metadata": {},
   "outputs": [],
   "source": [
    "df_LA_starbucks = fa.crear_dataframe(los_angeles_starbucks)\n",
    "df_LA_starbucks = (df_LA_starbucks.assign(categoria= \"Starbucks\"))"
   ]
  },
  {
   "cell_type": "markdown",
   "metadata": {},
   "source": [
    "### Concatenate dataframes"
   ]
  },
  {
   "cell_type": "code",
   "execution_count": 34,
   "metadata": {},
   "outputs": [],
   "source": [
    "df_concat_LA =  pd.concat([df_LA_vegan,df_LA_nursery,df_LA_bar,df_LA_taxi,df_LA_basket,df_LA_starbucks], ignore_index=True)"
   ]
  },
  {
   "cell_type": "markdown",
   "metadata": {},
   "source": [
    "### Cleaning dataframes"
   ]
  },
  {
   "cell_type": "code",
   "execution_count": 35,
   "metadata": {
    "scrolled": true
   },
   "outputs": [
    {
     "data": {
      "text/html": [
       "<div>\n",
       "<style scoped>\n",
       "    .dataframe tbody tr th:only-of-type {\n",
       "        vertical-align: middle;\n",
       "    }\n",
       "\n",
       "    .dataframe tbody tr th {\n",
       "        vertical-align: top;\n",
       "    }\n",
       "\n",
       "    .dataframe thead th {\n",
       "        text-align: right;\n",
       "    }\n",
       "</style>\n",
       "<table border=\"1\" class=\"dataframe\">\n",
       "  <thead>\n",
       "    <tr style=\"text-align: right;\">\n",
       "      <th>categoria</th>\n",
       "      <th>Starbucks</th>\n",
       "      <th>bar</th>\n",
       "      <th>basket</th>\n",
       "      <th>nursery</th>\n",
       "      <th>taxi</th>\n",
       "      <th>vegan</th>\n",
       "    </tr>\n",
       "  </thead>\n",
       "  <tbody>\n",
       "    <tr>\n",
       "      <th>Los_Angeles</th>\n",
       "      <td>51</td>\n",
       "      <td>69</td>\n",
       "      <td>36</td>\n",
       "      <td>18</td>\n",
       "      <td>2</td>\n",
       "      <td>39</td>\n",
       "    </tr>\n",
       "  </tbody>\n",
       "</table>\n",
       "</div>"
      ],
      "text/plain": [
       "categoria    Starbucks  bar  basket  nursery  taxi  vegan\n",
       "Los_Angeles         51   69      36       18     2     39"
      ]
     },
     "execution_count": 35,
     "metadata": {},
     "output_type": "execute_result"
    }
   ],
   "source": [
    "df_LA = fa.clean_dataframes(df_concat_LA,\"Los_Angeles\")\n",
    "df_LA"
   ]
  },
  {
   "cell_type": "markdown",
   "metadata": {},
   "source": [
    "## REDWOOD CITY"
   ]
  },
  {
   "cell_type": "code",
   "execution_count": 36,
   "metadata": {},
   "outputs": [],
   "source": [
    "redwood_vegan = fa.get_data(37.477652, -122.223384,url_query,*queries_vegan)\n",
    "\n",
    "redwood_nursery = fa.get_data(37.477652, -122.223384,url_query,*queries_nursery)\n",
    "\n",
    "redwood_bar = fa.get_data(37.477652, -122.223384,url_query,*queries_bar)\n",
    "\n",
    "redwood_taxi = fa.get_data(37.477652, -122.223384,url_query,*queries_taxi)\n",
    "\n",
    "redwood_basket = fa.get_data(37.477652, -122.223384,url_query,*queries_basket)\n",
    "\n",
    "redwood_starbucks = fa.get_data(37.477652, -122.223384,url_query,*queries_starbucks)"
   ]
  },
  {
   "cell_type": "code",
   "execution_count": 37,
   "metadata": {},
   "outputs": [],
   "source": [
    "redwood_vegan = redwood_vegan.get(\"Vegan Restaurant\").get(\"response\").get(\"groups\")[0].get(\"items\")\n",
    "redwood_nursery = redwood_nursery.get(\"Nursery School\").get(\"response\").get(\"groups\")[0].get(\"items\")\n",
    "redwood_bar = redwood_bar.get(\"Nightclub\").get(\"response\").get(\"groups\")[0].get(\"items\")\n",
    "redwood_taxi = redwood_taxi.get(\"Taxi Stand\").get(\"response\").get(\"groups\")[0].get(\"items\")\n",
    "redwood_basket = redwood_basket.get(\"Basketball Court\").get(\"response\").get(\"groups\")[0].get(\"items\")\n",
    "redwood_starbucks = redwood_starbucks.get(\"Starbucks\").get(\"response\").get(\"groups\")[0].get(\"items\")"
   ]
  },
  {
   "cell_type": "markdown",
   "metadata": {},
   "source": [
    "### Creating dataframes"
   ]
  },
  {
   "cell_type": "code",
   "execution_count": 38,
   "metadata": {},
   "outputs": [],
   "source": [
    "df_redwood_vegan = fa.crear_dataframe(redwood_vegan)\n",
    "df_redwood_vegan = (df_redwood_vegan.assign(categoria= \"vegan\"))"
   ]
  },
  {
   "cell_type": "code",
   "execution_count": 39,
   "metadata": {},
   "outputs": [],
   "source": [
    "df_redwood_nursery = fa.crear_dataframe(redwood_nursery)\n",
    "df_redwood_nursery = (df_redwood_nursery.assign(categoria= \"nursery\"))"
   ]
  },
  {
   "cell_type": "code",
   "execution_count": 40,
   "metadata": {},
   "outputs": [],
   "source": [
    "df_redwood_bar = fa.crear_dataframe(redwood_bar)\n",
    "df_redwood_bar = (df_redwood_bar.assign(categoria= \"bar\"))"
   ]
  },
  {
   "cell_type": "code",
   "execution_count": 41,
   "metadata": {},
   "outputs": [],
   "source": [
    "df_redwood_taxi = fa.crear_dataframe(redwood_taxi)\n",
    "df_redwood_taxi = (df_redwood_taxi.assign(categoria= \"taxi\"))"
   ]
  },
  {
   "cell_type": "code",
   "execution_count": 42,
   "metadata": {},
   "outputs": [],
   "source": [
    "df_redwood_basket = fa.crear_dataframe(redwood_basket)\n",
    "df_redwood_basket = (df_redwood_basket.assign(categoria= \"basket\"))"
   ]
  },
  {
   "cell_type": "code",
   "execution_count": 43,
   "metadata": {},
   "outputs": [],
   "source": [
    "df_redwood_starbucks = fa.crear_dataframe(redwood_starbucks)\n",
    "df_redwood_starbucks = (df_redwood_starbucks.assign(categoria= \"Starbucks\"))"
   ]
  },
  {
   "cell_type": "markdown",
   "metadata": {},
   "source": [
    "### Concatenate dataframes"
   ]
  },
  {
   "cell_type": "code",
   "execution_count": 44,
   "metadata": {},
   "outputs": [],
   "source": [
    "df_concat_redwood =  pd.concat([df_redwood_vegan,df_redwood_nursery,df_redwood_bar,df_redwood_taxi,df_redwood_basket,df_redwood_starbucks], ignore_index=True)"
   ]
  },
  {
   "cell_type": "markdown",
   "metadata": {},
   "source": [
    "### Cleaning dataframes"
   ]
  },
  {
   "cell_type": "code",
   "execution_count": 45,
   "metadata": {
    "scrolled": true
   },
   "outputs": [
    {
     "data": {
      "text/html": [
       "<div>\n",
       "<style scoped>\n",
       "    .dataframe tbody tr th:only-of-type {\n",
       "        vertical-align: middle;\n",
       "    }\n",
       "\n",
       "    .dataframe tbody tr th {\n",
       "        vertical-align: top;\n",
       "    }\n",
       "\n",
       "    .dataframe thead th {\n",
       "        text-align: right;\n",
       "    }\n",
       "</style>\n",
       "<table border=\"1\" class=\"dataframe\">\n",
       "  <thead>\n",
       "    <tr style=\"text-align: right;\">\n",
       "      <th>categoria</th>\n",
       "      <th>Starbucks</th>\n",
       "      <th>bar</th>\n",
       "      <th>basket</th>\n",
       "      <th>nursery</th>\n",
       "      <th>taxi</th>\n",
       "      <th>vegan</th>\n",
       "    </tr>\n",
       "  </thead>\n",
       "  <tbody>\n",
       "    <tr>\n",
       "      <th>Redwood</th>\n",
       "      <td>50</td>\n",
       "      <td>21</td>\n",
       "      <td>25</td>\n",
       "      <td>13</td>\n",
       "      <td>1</td>\n",
       "      <td>9</td>\n",
       "    </tr>\n",
       "  </tbody>\n",
       "</table>\n",
       "</div>"
      ],
      "text/plain": [
       "categoria  Starbucks  bar  basket  nursery  taxi  vegan\n",
       "Redwood           50   21      25       13     1      9"
      ]
     },
     "execution_count": 45,
     "metadata": {},
     "output_type": "execute_result"
    }
   ],
   "source": [
    "df_redwood = fa.clean_dataframes(df_concat_redwood,\"Redwood\")\n",
    "df_redwood"
   ]
  },
  {
   "cell_type": "markdown",
   "metadata": {},
   "source": [
    "## SUNNYVALE"
   ]
  },
  {
   "cell_type": "code",
   "execution_count": 46,
   "metadata": {},
   "outputs": [],
   "source": [
    "sunnyvale_vegan = fa.get_data(37.4123706, -122.0216271,url_query,*queries_vegan)\n",
    "\n",
    "sunnyvale_nursery = fa.get_data(37.4123706, -122.0216271,url_query,*queries_nursery)\n",
    "\n",
    "sunnyvale_bar = fa.get_data(37.4123706, -122.0216271,url_query,*queries_bar)\n",
    "\n",
    "sunnyvale_taxi = fa.get_data(37.4123706, -122.0216271,url_query,*queries_taxi)\n",
    "\n",
    "sunnyvale_basket = fa.get_data(37.4123706, -122.0216271,url_query,*queries_basket)\n",
    "\n",
    "sunnyvale_starbucks = fa.get_data(37.4123706, -122.0216271,url_query,*queries_starbucks)"
   ]
  },
  {
   "cell_type": "code",
   "execution_count": 47,
   "metadata": {},
   "outputs": [],
   "source": [
    "sunnyvale_vegan = sunnyvale_vegan.get(\"Vegan Restaurant\").get(\"response\").get(\"groups\")[0].get(\"items\")\n",
    "sunnyvale_nursery = sunnyvale_nursery.get(\"Nursery School\").get(\"response\").get(\"groups\")[0].get(\"items\")\n",
    "sunnyvale_bar = sunnyvale_bar.get(\"Nightclub\").get(\"response\").get(\"groups\")[0].get(\"items\")\n",
    "sunnyvale_taxi = sunnyvale_taxi.get(\"Taxi Stand\").get(\"response\").get(\"groups\")[0].get(\"items\")\n",
    "sunnyvale_basket = sunnyvale_basket.get(\"Basketball Court\").get(\"response\").get(\"groups\")[0].get(\"items\")\n",
    "sunnyvale_starbucks = sunnyvale_starbucks.get(\"Starbucks\").get(\"response\").get(\"groups\")[0].get(\"items\")"
   ]
  },
  {
   "cell_type": "markdown",
   "metadata": {},
   "source": [
    "### Creating dataframes"
   ]
  },
  {
   "cell_type": "code",
   "execution_count": 48,
   "metadata": {},
   "outputs": [],
   "source": [
    "df_sunnyvale_vegan = fa.crear_dataframe(sunnyvale_vegan)\n",
    "df_sunnyvale_vegan = (df_sunnyvale_vegan.assign(categoria= \"vegan\"))\n",
    "\n",
    "df_sunnyvale_nursery = fa.crear_dataframe(sunnyvale_nursery)\n",
    "df_sunnyvale_nursery = (df_sunnyvale_nursery.assign(categoria= \"nursery\"))\n",
    "\n",
    "df_sunnyvale_bar = fa.crear_dataframe(sunnyvale_bar)\n",
    "df_sunnyvale_bar = (df_sunnyvale_bar.assign(categoria= \"bar\"))\n",
    "\n",
    "df_sunnyvale_taxi = fa.crear_dataframe(sunnyvale_taxi)\n",
    "df_sunnyvale_taxi = (df_sunnyvale_taxi.assign(categoria= \"taxi\"))\n",
    "\n",
    "df_sunnyvale_basket = fa.crear_dataframe(redwood_basket)\n",
    "df_sunnyvale_basket = (df_sunnyvale_basket.assign(categoria= \"basket\"))\n",
    "\n",
    "df_sunnyvale_starbucks = fa.crear_dataframe(redwood_starbucks)\n",
    "df_sunnyvale_starbucks = (df_sunnyvale_starbucks.assign(categoria= \"Starbucks\"))"
   ]
  },
  {
   "cell_type": "markdown",
   "metadata": {},
   "source": [
    "### Concatenate dataframes"
   ]
  },
  {
   "cell_type": "code",
   "execution_count": 49,
   "metadata": {},
   "outputs": [],
   "source": [
    "df_concat_sunnyvale =  pd.concat([df_sunnyvale_vegan,df_sunnyvale_nursery,df_sunnyvale_bar,df_sunnyvale_taxi,df_sunnyvale_basket,df_sunnyvale_starbucks], ignore_index=True)"
   ]
  },
  {
   "cell_type": "markdown",
   "metadata": {},
   "source": [
    "### Cleaning dataframes"
   ]
  },
  {
   "cell_type": "code",
   "execution_count": 50,
   "metadata": {
    "scrolled": true
   },
   "outputs": [
    {
     "data": {
      "text/html": [
       "<div>\n",
       "<style scoped>\n",
       "    .dataframe tbody tr th:only-of-type {\n",
       "        vertical-align: middle;\n",
       "    }\n",
       "\n",
       "    .dataframe tbody tr th {\n",
       "        vertical-align: top;\n",
       "    }\n",
       "\n",
       "    .dataframe thead th {\n",
       "        text-align: right;\n",
       "    }\n",
       "</style>\n",
       "<table border=\"1\" class=\"dataframe\">\n",
       "  <thead>\n",
       "    <tr style=\"text-align: right;\">\n",
       "      <th>categoria</th>\n",
       "      <th>Starbucks</th>\n",
       "      <th>bar</th>\n",
       "      <th>basket</th>\n",
       "      <th>nursery</th>\n",
       "      <th>taxi</th>\n",
       "      <th>vegan</th>\n",
       "    </tr>\n",
       "  </thead>\n",
       "  <tbody>\n",
       "    <tr>\n",
       "      <th>Sunnyvale</th>\n",
       "      <td>50</td>\n",
       "      <td>24</td>\n",
       "      <td>25</td>\n",
       "      <td>6</td>\n",
       "      <td>3</td>\n",
       "      <td>13</td>\n",
       "    </tr>\n",
       "  </tbody>\n",
       "</table>\n",
       "</div>"
      ],
      "text/plain": [
       "categoria  Starbucks  bar  basket  nursery  taxi  vegan\n",
       "Sunnyvale         50   24      25        6     3     13"
      ]
     },
     "execution_count": 50,
     "metadata": {},
     "output_type": "execute_result"
    }
   ],
   "source": [
    "df_sunnyvale = fa.clean_dataframes(df_concat_sunnyvale,\"Sunnyvale\")\n",
    "df_sunnyvale"
   ]
  },
  {
   "cell_type": "markdown",
   "metadata": {},
   "source": [
    "## Concatenate cities"
   ]
  },
  {
   "cell_type": "code",
   "execution_count": 51,
   "metadata": {
    "scrolled": false
   },
   "outputs": [
    {
     "data": {
      "text/html": [
       "<div>\n",
       "<style scoped>\n",
       "    .dataframe tbody tr th:only-of-type {\n",
       "        vertical-align: middle;\n",
       "    }\n",
       "\n",
       "    .dataframe tbody tr th {\n",
       "        vertical-align: top;\n",
       "    }\n",
       "\n",
       "    .dataframe thead th {\n",
       "        text-align: right;\n",
       "    }\n",
       "</style>\n",
       "<table border=\"1\" class=\"dataframe\">\n",
       "  <thead>\n",
       "    <tr style=\"text-align: right;\">\n",
       "      <th>categoria</th>\n",
       "      <th>Starbucks</th>\n",
       "      <th>bar</th>\n",
       "      <th>basket</th>\n",
       "      <th>nursery</th>\n",
       "      <th>taxi</th>\n",
       "      <th>vegan</th>\n",
       "    </tr>\n",
       "  </thead>\n",
       "  <tbody>\n",
       "    <tr>\n",
       "      <th>San_Francisco</th>\n",
       "      <td>50</td>\n",
       "      <td>49</td>\n",
       "      <td>24</td>\n",
       "      <td>8</td>\n",
       "      <td>5</td>\n",
       "      <td>20</td>\n",
       "    </tr>\n",
       "    <tr>\n",
       "      <th>Los_Gatos</th>\n",
       "      <td>64</td>\n",
       "      <td>23</td>\n",
       "      <td>43</td>\n",
       "      <td>11</td>\n",
       "      <td>3</td>\n",
       "      <td>58</td>\n",
       "    </tr>\n",
       "    <tr>\n",
       "      <th>Los_Angeles</th>\n",
       "      <td>51</td>\n",
       "      <td>69</td>\n",
       "      <td>36</td>\n",
       "      <td>18</td>\n",
       "      <td>2</td>\n",
       "      <td>39</td>\n",
       "    </tr>\n",
       "    <tr>\n",
       "      <th>Redwood</th>\n",
       "      <td>50</td>\n",
       "      <td>21</td>\n",
       "      <td>25</td>\n",
       "      <td>13</td>\n",
       "      <td>1</td>\n",
       "      <td>9</td>\n",
       "    </tr>\n",
       "    <tr>\n",
       "      <th>Sunnyvale</th>\n",
       "      <td>50</td>\n",
       "      <td>24</td>\n",
       "      <td>25</td>\n",
       "      <td>6</td>\n",
       "      <td>3</td>\n",
       "      <td>13</td>\n",
       "    </tr>\n",
       "  </tbody>\n",
       "</table>\n",
       "</div>"
      ],
      "text/plain": [
       "categoria      Starbucks  bar  basket  nursery  taxi  vegan\n",
       "San_Francisco         50   49      24        8     5     20\n",
       "Los_Gatos             64   23      43       11     3     58\n",
       "Los_Angeles           51   69      36       18     2     39\n",
       "Redwood               50   21      25       13     1      9\n",
       "Sunnyvale             50   24      25        6     3     13"
      ]
     },
     "execution_count": 51,
     "metadata": {},
     "output_type": "execute_result"
    }
   ],
   "source": [
    "df_concat = pd.concat([df_sanfrancisco,df_los_gatos,df_LA,df_redwood,df_sunnyvale])\n",
    "df_concat"
   ]
  },
  {
   "cell_type": "markdown",
   "metadata": {},
   "source": [
    "### Rating\n",
    "We rate from 1-3 each category"
   ]
  },
  {
   "cell_type": "code",
   "execution_count": 52,
   "metadata": {
    "scrolled": true
   },
   "outputs": [],
   "source": [
    "df_score = fa.puntuacion(df_concat)"
   ]
  },
  {
   "cell_type": "code",
   "execution_count": 53,
   "metadata": {},
   "outputs": [
    {
     "data": {
      "text/html": [
       "<div>\n",
       "<style scoped>\n",
       "    .dataframe tbody tr th:only-of-type {\n",
       "        vertical-align: middle;\n",
       "    }\n",
       "\n",
       "    .dataframe tbody tr th {\n",
       "        vertical-align: top;\n",
       "    }\n",
       "\n",
       "    .dataframe thead th {\n",
       "        text-align: right;\n",
       "    }\n",
       "</style>\n",
       "<table border=\"1\" class=\"dataframe\">\n",
       "  <thead>\n",
       "    <tr style=\"text-align: right;\">\n",
       "      <th>categoria</th>\n",
       "      <th>Starbucks</th>\n",
       "      <th>bar</th>\n",
       "      <th>basket</th>\n",
       "      <th>nursery</th>\n",
       "      <th>taxi</th>\n",
       "      <th>vegan</th>\n",
       "      <th>Score</th>\n",
       "    </tr>\n",
       "  </thead>\n",
       "  <tbody>\n",
       "    <tr>\n",
       "      <th>San_Francisco</th>\n",
       "      <td>1</td>\n",
       "      <td>3</td>\n",
       "      <td>1</td>\n",
       "      <td>1</td>\n",
       "      <td>3</td>\n",
       "      <td>2</td>\n",
       "      <td>1.95</td>\n",
       "    </tr>\n",
       "    <tr>\n",
       "      <th>Los_Gatos</th>\n",
       "      <td>3</td>\n",
       "      <td>2</td>\n",
       "      <td>3</td>\n",
       "      <td>2</td>\n",
       "      <td>2</td>\n",
       "      <td>3</td>\n",
       "      <td>2.45</td>\n",
       "    </tr>\n",
       "    <tr>\n",
       "      <th>Los_Angeles</th>\n",
       "      <td>2</td>\n",
       "      <td>3</td>\n",
       "      <td>2</td>\n",
       "      <td>3</td>\n",
       "      <td>1</td>\n",
       "      <td>3</td>\n",
       "      <td>2.10</td>\n",
       "    </tr>\n",
       "    <tr>\n",
       "      <th>Redwood</th>\n",
       "      <td>1</td>\n",
       "      <td>2</td>\n",
       "      <td>1</td>\n",
       "      <td>2</td>\n",
       "      <td>1</td>\n",
       "      <td>1</td>\n",
       "      <td>1.25</td>\n",
       "    </tr>\n",
       "    <tr>\n",
       "      <th>Sunnyvale</th>\n",
       "      <td>1</td>\n",
       "      <td>2</td>\n",
       "      <td>1</td>\n",
       "      <td>1</td>\n",
       "      <td>2</td>\n",
       "      <td>2</td>\n",
       "      <td>1.55</td>\n",
       "    </tr>\n",
       "  </tbody>\n",
       "</table>\n",
       "</div>"
      ],
      "text/plain": [
       "categoria      Starbucks  bar  basket  nursery  taxi  vegan  Score\n",
       "San_Francisco          1    3       1        1     3      2   1.95\n",
       "Los_Gatos              3    2       3        2     2      3   2.45\n",
       "Los_Angeles            2    3       2        3     1      3   2.10\n",
       "Redwood                1    2       1        2     1      1   1.25\n",
       "Sunnyvale              1    2       1        1     2      2   1.55"
      ]
     },
     "execution_count": 53,
     "metadata": {},
     "output_type": "execute_result"
    }
   ],
   "source": [
    "df_score[\"Score\"] = (df_score[\"Starbucks\"]*0.2)+(df_score[\"bar\"]*0.1)+(df_score[\"basket\"]*0.1)+(df_score[\"nursery\"]*0.15)+(df_score[\"taxi\"]*0.3)+(df_score[\"vegan\"]*0.15)\n",
    "df_score"
   ]
  },
  {
   "cell_type": "markdown",
   "metadata": {},
   "source": [
    "Guardamos el dataframe"
   ]
  },
  {
   "cell_type": "code",
   "execution_count": 54,
   "metadata": {},
   "outputs": [],
   "source": [
    "df_concat_gatos.to_csv(\"Output/df_concat_gatos.csv\")"
   ]
  },
  {
   "cell_type": "code",
   "execution_count": null,
   "metadata": {},
   "outputs": [],
   "source": []
  }
 ],
 "metadata": {
  "kernelspec": {
   "display_name": "Python 3",
   "language": "python",
   "name": "python3"
  },
  "language_info": {
   "codemirror_mode": {
    "name": "ipython",
    "version": 3
   },
   "file_extension": ".py",
   "mimetype": "text/x-python",
   "name": "python",
   "nbconvert_exporter": "python",
   "pygments_lexer": "ipython3",
   "version": "3.8.5"
  }
 },
 "nbformat": 4,
 "nbformat_minor": 4
}
